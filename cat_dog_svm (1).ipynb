{
  "nbformat": 4,
  "nbformat_minor": 0,
  "metadata": {
    "colab": {
      "provenance": []
    },
    "kernelspec": {
      "name": "python3",
      "display_name": "Python 3"
    },
    "language_info": {
      "name": "python"
    }
  },
  "cells": [
    {
      "cell_type": "code",
      "source": [
        "import zipfile\n",
        "import os\n",
        "import numpy as np\n",
        "import cv2\n",
        "from sklearn.svm import SVC\n",
        "from sklearn.metrics import accuracy_score, classification_report\n",
        "from sklearn.model_selection import train_test_split\n",
        "from tensorflow.keras.applications import VGG16\n",
        "from tensorflow.keras.applications.vgg16 import preprocess_input\n",
        "\n",
        "# Step 1: Specify the path to the zip file and the extraction directory\n",
        "zip_file_path = 'train.zip'  # Specify the path to your 'train.zip' file\n",
        "extraction_path = 'dataset/train/'  # Specify the directory where you want to extract the dataset\n",
        "\n",
        "# Create the extraction directory if it doesn't exist\n",
        "os.makedirs(extraction_path, exist_ok=True)\n",
        "\n",
        "# Step 2: Extract the zip file\n",
        "with zipfile.ZipFile(zip_file_path, 'r') as zip_ref:\n",
        "    zip_ref.extractall(extraction_path)\n",
        "\n",
        "# After running this code, you should have all images directly in the 'dataset/train' directory.\n",
        "\n",
        "# Step 3: Load and Preprocess the Data\n",
        "def preprocess_image(image_path, target_size=(224, 224)):\n",
        "    img = cv2.imread(image_path)\n",
        "    img = cv2.cvtColor(img, cv2.COLOR_BGR2RGB)\n",
        "    img = cv2.resize(img, target_size)\n",
        "    img = preprocess_input(img)\n",
        "    return img\n",
        "\n",
        "X = []\n",
        "y = []\n",
        "\n",
        "train_dir = 'dataset/train'\n",
        "\n",
        "for img_file in os.listdir(train_dir):\n",
        "    img_path = os.path.join(train_dir, img_file)\n",
        "    img = preprocess_image(img_path)\n",
        "    X.append(img)\n",
        "\n",
        "    # Extract the label from the image filename ('cat' or 'dog')\n",
        "    label = img_file.split('.')[0]\n",
        "    if label == 'cat':\n",
        "        y.append(0)  # 0 represents 'cat'\n",
        "    elif label == 'dog':\n",
        "        y.append(1)  # 1 represents 'dog'\n",
        "\n",
        "X = np.array(X)\n",
        "y = np.array(y)\n",
        "\n",
        "# Step 4: Flatten and Split the Data\n",
        "X_flatten = X.reshape(X.shape[0], -1)\n",
        "X_train, X_test, y_train, y_test = train_test_split(X_flatten, y, test_size=0.2, random_state=42)\n",
        "\n",
        "# Step 5: Extract Features Using a Pre-trained CNN (VGG16)\n",
        "vgg16 = VGG16(weights='imagenet', include_top=False, input_shape=(224, 224, 3))\n",
        "\n",
        "X_train_features = vgg16.predict(X_train.reshape(-1, 224, 224, 3))\n",
        "X_test_features = vgg16.predict(X_test.reshape(-1, 224, 224, 3))\n",
        "\n",
        "# Step 6: Train the Support Vector Machine (SVM) classifier\n",
        "svm_classifier = SVC(kernel='linear')\n",
        "svm_classifier.fit(X_train_features, y_train)\n",
        "\n",
        "# Step 7: Make Predictions\n",
        "y_pred = svm_classifier.predict(X_test_features)\n",
        "\n",
        "# Step 8: Evaluate the Model\n",
        "accuracy = accuracy_score(y_test, y_pred)\n",
        "report = classification_report(y_test, y_pred)\n",
        "\n",
        "print(f'Accuracy: {accuracy * 100:.2f}%')\n",
        "print(report)\n"
      ],
      "metadata": {
        "id": "4iPIzCUfHtbC"
      },
      "execution_count": null,
      "outputs": []
    },
    {
      "cell_type": "code",
      "source": [
        "import cv2\n",
        "from tensorflow.keras.applications.vgg16 import preprocess_input\n",
        "\n",
        "# Load and preprocess the image you want to classify\n",
        "image_path = ''  # Specify the path to your image\n",
        "img = cv2.imread(image_path)\n",
        "img = cv2.cvtColor(img, cv2.COLOR_BGR2RGB)\n",
        "img = cv2.resize(img, (224, 224))\n",
        "img = preprocess_input(img)\n",
        "\n",
        "# Extract features using VGG16\n",
        "vgg16 = VGG16(weights='imagenet', include_top=False, input_shape=(224, 224, 3))\n",
        "image_features = vgg16.predict(np.expand_dims(img, axis=0))\n",
        "\n",
        "# Use the trained SVM classifier to make a prediction\n",
        "prediction = svm_classifier.predict(image_features)\n",
        "\n",
        "# Map the prediction to 'cat' or 'dog'\n",
        "if prediction == 0:\n",
        "    result = 'cat'\n",
        "else:\n",
        "    result = 'dog'\n",
        "\n",
        "print(f'The image is a {result}.')\n"
      ],
      "metadata": {
        "id": "Lwplo7R7HuA_"
      },
      "execution_count": null,
      "outputs": []
    },
    {
      "cell_type": "code",
      "source": [],
      "metadata": {
        "id": "ntMNffT-IGzS"
      },
      "execution_count": null,
      "outputs": []
    }
  ]
}